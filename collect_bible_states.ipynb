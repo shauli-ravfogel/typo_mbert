{
 "cells": [
  {
   "cell_type": "code",
   "execution_count": 41,
   "metadata": {},
   "outputs": [],
   "source": [
    "import xml.etree.ElementTree as ET\n",
    "import tqdm\n",
    "from collections import defaultdict\n",
    "import numpy as np\n",
    "import torch\n",
    "import matplotlib.pyplot as plt\n",
    "from sklearn.metrics.pairwise import cosine_similarity"
   ]
  },
  {
   "cell_type": "code",
   "execution_count": 2,
   "metadata": {},
   "outputs": [
    {
     "name": "stderr",
     "output_type": "stream",
     "text": [
      "/home/shauli/anaconda3/envs/py3/lib/python3.7/site-packages/ipykernel_launcher.py:9: TqdmDeprecationWarning: This function will be removed in tqdm==5.0.0\n",
      "Please use `tqdm.notebook.tqdm` instead of `tqdm.tqdm_notebook`\n",
      "  if __name__ == '__main__':\n"
     ]
    },
    {
     "data": {
      "application/vnd.jupyter.widget-view+json": {
       "model_id": "e80b737ca7e64fa8b0efb9eba3c7f46d",
       "version_major": 2,
       "version_minor": 0
      },
      "text/plain": [
       "HBox(children=(HTML(value=''), FloatProgress(value=0.0, max=46.0), HTML(value='')))"
      ]
     },
     "metadata": {},
     "output_type": "display_data"
    },
    {
     "name": "stdout",
     "output_type": "stream",
     "text": [
      "\n"
     ]
    }
   ],
   "source": [
    "lang = 'English'\n",
    "lang2lines = defaultdict(list)\n",
    "langauges = [\"English\", \"Afrikaans\", \"Albanian\", \"Amharic\", \"Arabic\", \"Bulgarian\", \"Cebuano\", \"Chinese\", \"Croatian\",\n",
    "            \"Czech\", \"Danish\", \"Dutch\", \"Esperanto\", \"Farsi\", \"Finnish\", \"French\", \"German\", \"Greek\", \"Creole\",\n",
    "             \"Hebrew\", \"Hindi\", \"Hungarian\", \"Icelandic\", \"Indonesian\", \"Italian\", \"Japanese\", \"Korean\", \"Latin\",\n",
    "             \"Malagasy\", \"Maori\", \"Norwegian\", \"Polish\", \"Portuguese\", \"Romanian\", \"Russian\", \"Serbian\", \"Shona\",\n",
    "             \"Slovak\", \"Spanish\", \"Tagalog\", \"Telugu\", \"Turkish\", \"Vietnamese\", \"Swahili-NT\", \"Somali\", \"Kabyle-NT\"]\n",
    "\n",
    "for lang in tqdm.tqdm_notebook(langauges):\n",
    "    root = ET.fromstring(open(\"xml/\" + lang + '.xml').read())\n",
    "    with open(\"xml/\" + lang + '.txt', 'w', encoding='utf-8') as out:\n",
    "        for n in root.iter('seg'):\n",
    "            #out.write(n.text.strip() + '\\n')\n",
    "            try:\n",
    "                lang2lines[lang].append(n.text.strip())\n",
    "            except Exception as e:\n",
    "                lang2lines[lang].append(\"\")"
   ]
  },
  {
   "cell_type": "code",
   "execution_count": 3,
   "metadata": {},
   "outputs": [],
   "source": [
    "lang2lines_clean = defaultdict(list)"
   ]
  },
  {
   "cell_type": "code",
   "execution_count": 4,
   "metadata": {},
   "outputs": [
    {
     "name": "stdout",
     "output_type": "stream",
     "text": [
      "31102\n",
      "31163\n",
      "31102\n",
      "30580\n",
      "31102\n",
      "31071\n",
      "31113\n",
      "31101\n",
      "31102\n",
      "31102\n",
      "31103\n",
      "29098\n",
      "31102\n",
      "31020\n",
      "31018\n",
      "31102\n",
      "31102\n",
      "31102\n",
      "31231\n",
      "31102\n",
      "31089\n",
      "31298\n",
      "31087\n",
      "31229\n",
      "31292\n",
      "31087\n",
      "31231\n",
      "31211\n",
      "31099\n",
      "31230\n",
      "31167\n",
      "31364\n",
      "31102\n",
      "31102\n",
      "31102\n",
      "31102\n",
      "31029\n",
      "31172\n",
      "31100\n",
      "31102\n",
      "31102\n",
      "30209\n",
      "31102\n",
      "7853\n",
      "31102\n",
      "7935\n"
     ]
    }
   ],
   "source": [
    "for k in lang2lines.keys():\n",
    "    print(len(lang2lines[k]))\n",
    "    if len(lang2lines[k]) == 31102:\n",
    "        lang2lines_clean[k] = lang2lines[k]"
   ]
  },
  {
   "cell_type": "code",
   "execution_count": 7,
   "metadata": {},
   "outputs": [
    {
     "data": {
      "text/plain": [
       "18"
      ]
     },
     "execution_count": 7,
     "metadata": {},
     "output_type": "execute_result"
    }
   ],
   "source": [
    "len(lang2lines_clean)"
   ]
  },
  {
   "cell_type": "code",
   "execution_count": 8,
   "metadata": {},
   "outputs": [
    {
     "data": {
      "text/plain": [
       "dict_keys(['English', 'Albanian', 'Arabic', 'Croatian', 'Czech', 'Esperanto', 'French', 'German', 'Greek', 'Hebrew', 'Portuguese', 'Romanian', 'Russian', 'Serbian', 'Tagalog', 'Telugu', 'Vietnamese', 'Somali'])"
      ]
     },
     "execution_count": 8,
     "metadata": {},
     "output_type": "execute_result"
    }
   ],
   "source": [
    "lang2lines_clean.keys()"
   ]
  },
  {
   "cell_type": "code",
   "execution_count": 9,
   "metadata": {},
   "outputs": [
    {
     "data": {
      "text/plain": [
       "\"Every one that did offer an offering of silver and brass brought the LORD's offering: and every man, with whom was found shittim wood for any work of the service, brought it.\""
      ]
     },
     "execution_count": 9,
     "metadata": {},
     "output_type": "execute_result"
    }
   ],
   "source": [
    "lang2lines_clean[\"English\"][2555]"
   ]
  },
  {
   "cell_type": "code",
   "execution_count": 10,
   "metadata": {},
   "outputs": [
    {
     "data": {
      "text/plain": [
       "'Todo aquele que tinha prata ou metal para oferecer, o trazia por oferta alçada ao Senhor; e todo aquele que possuía madeira de acácia, a trazia para qualquer obra do serviço.'"
      ]
     },
     "execution_count": 10,
     "metadata": {},
     "output_type": "execute_result"
    }
   ],
   "source": [
    "lang2lines_clean[\"Portuguese\"][2555]"
   ]
  },
  {
   "cell_type": "code",
   "execution_count": 11,
   "metadata": {},
   "outputs": [],
   "source": [
    "from transformers import BertModel, BertConfig, BertTokenizer"
   ]
  },
  {
   "cell_type": "code",
   "execution_count": 12,
   "metadata": {},
   "outputs": [],
   "source": [
    "import transformers"
   ]
  },
  {
   "cell_type": "code",
   "execution_count": 13,
   "metadata": {},
   "outputs": [
    {
     "name": "stderr",
     "output_type": "stream",
     "text": [
      "Some weights of the model checkpoint at bert-base-multilingual-uncased were not used when initializing BertModel: ['cls.seq_relationship.bias', 'cls.predictions.transform.LayerNorm.weight', 'cls.predictions.transform.dense.bias', 'cls.predictions.transform.dense.weight', 'cls.predictions.transform.LayerNorm.bias', 'cls.predictions.bias', 'cls.predictions.decoder.weight', 'cls.seq_relationship.weight']\n",
      "- This IS expected if you are initializing BertModel from the checkpoint of a model trained on another task or with another architecture (e.g. initializing a BertForSequenceClassification model from a BertForPreTraining model).\n",
      "- This IS NOT expected if you are initializing BertModel from the checkpoint of a model that you expect to be exactly identical (initializing a BertForSequenceClassification model from a BertForSequenceClassification model).\n"
     ]
    }
   ],
   "source": [
    "tokenizer = BertTokenizer.from_pretrained(\"bert-base-multilingual-uncased\")\n",
    "bert = BertModel.from_pretrained(\"bert-base-multilingual-uncased\")"
   ]
  },
  {
   "cell_type": "code",
   "execution_count": null,
   "metadata": {},
   "outputs": [],
   "source": []
  },
  {
   "cell_type": "code",
   "execution_count": 15,
   "metadata": {},
   "outputs": [
    {
     "name": "stderr",
     "output_type": "stream",
     "text": [
      "/home/shauli/anaconda3/envs/py3/lib/python3.7/site-packages/ipykernel_launcher.py:9: TqdmDeprecationWarning: This function will be removed in tqdm==5.0.0\n",
      "Please use `tqdm.notebook.tqdm` instead of `tqdm.tqdm_notebook`\n",
      "  if __name__ == '__main__':\n"
     ]
    },
    {
     "data": {
      "application/vnd.jupyter.widget-view+json": {
       "model_id": "f0bfe577d1504a14a1ec030ce9b883c0",
       "version_major": 2,
       "version_minor": 0
      },
      "text/plain": [
       "HBox(children=(HTML(value=''), FloatProgress(value=0.0, max=3000.0), HTML(value='')))"
      ]
     },
     "metadata": {},
     "output_type": "display_data"
    },
    {
     "name": "stdout",
     "output_type": "stream",
     "text": [
      "\n"
     ]
    }
   ],
   "source": [
    "lang2H_cls = defaultdict(list)\n",
    "lang2H_mean = defaultdict(list)\n",
    "\n",
    "sents_idx = []\n",
    "bert.eval()\n",
    "langs = list(lang2lines_clean.keys())\n",
    "\n",
    "if \"Spanish\" in lang2lines_clean: del lang2lines_clean[\"Spanish\"]\n",
    "for i in tqdm.tqdm_notebook(range(3000)):\n",
    "    j = np.random.choice(range(len(lang2lines_clean[\"English\"])))\n",
    "    sents = []\n",
    "    for lang in langs:\n",
    "        sents.append(lang2lines_clean[lang][j])\n",
    "   \n",
    "    sents_idx.append(j)\n",
    "    tokens = tokenizer.batch_encode_plus(sents, padding = \"longest\")\n",
    "    input_ids, attention_mask = tokens[\"input_ids\"], tokens[\"attention_mask\"]\n",
    "    input_ids = torch.tensor(input_ids)\n",
    "    attention_mask = torch.tensor(attention_mask)\n",
    "    with torch.no_grad():\n",
    "        output = bert(input_ids=input_ids, attention_mask=attention_mask)\n",
    "        cls = output.last_hidden_state[:,0,:].detach().cpu().numpy()\n",
    "        mean = output.last_hidden_state[:,1:-1,:].mean(dim=1).detach().cpu().numpy()\n",
    "    for k, lang in enumerate(langs):\n",
    "        lang2H_cls[lang].append(cls[k])\n",
    "        lang2H_mean[lang].append(mean[k])"
   ]
  },
  {
   "cell_type": "code",
   "execution_count": 16,
   "metadata": {},
   "outputs": [],
   "source": [
    "import pickle\n",
    "with open(\"reps.pickle\", \"wb\") as f:\n",
    "    pickle.dump((sents_idx, lang2H_cls, lang2H_mean), f)"
   ]
  },
  {
   "cell_type": "code",
   "execution_count": 26,
   "metadata": {},
   "outputs": [],
   "source": [
    "from sklearn.metrics.pairwise import cosine_similarity"
   ]
  },
  {
   "cell_type": "code",
   "execution_count": 27,
   "metadata": {},
   "outputs": [],
   "source": [
    "en = np.stack(lang2H_mean[\"English\"])\n",
    "he = np.stack(lang2H_mean[\"Hebrew\"])\n",
    "en_sents = [lang2lines_clean[\"English\"][j] for j in sents_idx]\n",
    "he_sents = [lang2lines_clean[\"Hebrew\"][j] for j in sents_idx]"
   ]
  },
  {
   "cell_type": "code",
   "execution_count": 28,
   "metadata": {},
   "outputs": [
    {
     "name": "stdout",
     "output_type": "stream",
     "text": [
      "He: יתר מרעהו צדיק ודרך רשעים תתעם׃\n",
      "En: Howbeit from the sins of Jeroboam the son of Nebat, who made Israel to sin, Jehu departed not from after them, to wit, the golden calves that were in Bethel, and that were in Dan.\n",
      "========================================\n",
      "He: וישתוממו כל המון העם ויאמרו הכי זה הוא בן דוד׃\n",
      "En: Speak unto Aaron, and unto his sons, and unto all the children of Israel, and say unto them; This is the thing which the LORD hath commanded, saying,\n",
      "========================================\n",
      "He: אשרי הגוי אשר יהוה אלהיו העם בחר לנחלה לו׃\n",
      "En: And the LORD said unto Moses, Depart, and go up hence, thou and the people which thou hast brought up out of the land of Egypt, unto the land which I sware unto Abraham, to Isaac, and to Jacob, saying, Unto thy seed will I give it:\n",
      "========================================\n",
      "He: ויצא קין מלפני יהוה וישב בארץ נוד קדמת עדן׃\n",
      "En: Howbeit from the sins of Jeroboam the son of Nebat, who made Israel to sin, Jehu departed not from after them, to wit, the golden calves that were in Bethel, and that were in Dan.\n",
      "========================================\n",
      "He: ויאמר האדם זאת הפעם עצם מעצמי ובשר מבשרי לזאת יקרא אשה כי מאיש לקחה זאת׃\n",
      "En: And let thy house be like the house of Pharez, whom Tamar bare unto Judah, of the seed which the LORD shall give thee of this young woman.\n",
      "========================================\n",
      "He: ואשמע מספר החתומים מאה אלף וארבעים וארבעה אלף והם חתומים מכל שבטי בני ישראל׃\n",
      "En: Those that were numbered of them, even of the tribe of Manasseh, were thirty and two thousand and two hundred.\n",
      "========================================\n",
      "He: את אלה תדבר ותזהיר ותוכיח בכל חזקה ואיש אל יבוז לך׃\n",
      "En: Hearken therefore unto the supplications of thy servant, and of thy people Israel, which they shall make toward this place: hear thou from thy dwelling place, even from heaven; and when thou hearest, forgive.\n",
      "========================================\n",
      "He: והותרך יהוה לטובה בפרי בטנך ובפרי בהמתך ובפרי אדמתך על האדמה אשר נשבע יהוה לאבתיך לתת לך׃\n",
      "En: And say unto the Ammonites, Hear the word of the Lord GOD; Thus saith the Lord GOD; Because thou saidst, Aha, against my sanctuary, when it was profaned; and against the land of Israel, when it was desolate; and against the house of Judah, when they went into captivity;\n",
      "========================================\n",
      "He: ויהי כי בערו אש בתוך החצר וישבו יחדו וישב גם פטרוס בתוכם׃\n",
      "En: So Joash the king of Israel went up; and they saw one another in the face, both he and Amaziah king of Judah, at Beth-shemesh, which belongeth to Judah.\n",
      "========================================\n",
      "He: ויהי בערב ויאמר בעל הכרם אל פקידו קרא את הפעלים ושלם להם את שכרם החל באחרונים וכלה בראשונים׃\n",
      "En: Then the men of Judah gave a shout: and as the men of Judah shouted, it came to pass, that God smote Jeroboam and all Israel before Abijah and Judah.\n",
      "========================================\n",
      "He: ומהם שם האלהים בקהל ראשונה לשליחים ושנית לנביאים ושלישית למלמדים ויתן גבורות אף מתנות הרפאות ועזרים ומנהיגים ומיני לשנות׃\n",
      "En: Moreover Hezekiah the king and the princes commanded the Levites to sing praise unto the LORD with the words of David, and of Asaph the seer. And they sang praises with gladness, and they bowed their heads and worshipped.\n",
      "========================================\n",
      "He: לא אעשה חרון אפי לא אשוב לשחת אפרים כי אל אנכי ולא איש בקרבך קדוש ולא אבוא בעיר׃\n",
      "En: And these shall stand upon mount Ebal to curse; Reuben, Gad, and Asher, and Zebulun, Dan, and Naphtali.\n",
      "========================================\n",
      "He: לא תעשון ככל אשר אנחנו עשים פה היום איש כל הישר בעיניו׃\n",
      "En: Howbeit from the sins of Jeroboam the son of Nebat, who made Israel to sin, Jehu departed not from after them, to wit, the golden calves that were in Bethel, and that were in Dan.\n",
      "========================================\n",
      "He: ונח דנאל ואיוב בתוכה חי אני נאם אדני יהוה אם בן אם בת יצילו המה בצדקתם יצילו נפשם׃\n",
      "En: Howbeit from the sins of Jeroboam the son of Nebat, who made Israel to sin, Jehu departed not from after them, to wit, the golden calves that were in Bethel, and that were in Dan.\n",
      "========================================\n",
      "He: ויפנו ויעלו דרך הבשן ויצא עוג מלך הבשן לקראתם הוא וכל עמו למלחמה אדרעי׃\n",
      "En: Then the men of Judah gave a shout: and as the men of Judah shouted, it came to pass, that God smote Jeroboam and all Israel before Abijah and Judah.\n",
      "========================================\n",
      "He: ויגד לשאול כי ברח דוד גת ולא יוסף עוד לבקשו׃\n",
      "En: And he sent messengers to Ahab king of Israel into the city, and said unto him, Thus saith Ben-hadad,\n",
      "========================================\n",
      "He: כי הוא יצילך מפח יקוש מדבר הוות׃\n",
      "En: Howbeit from the sins of Jeroboam the son of Nebat, who made Israel to sin, Jehu departed not from after them, to wit, the golden calves that were in Bethel, and that were in Dan.\n",
      "========================================\n",
      "He: שויתי יהוה לנגדי תמיד כי מימיני בל אמוט׃\n",
      "En: Howbeit from the sins of Jeroboam the son of Nebat, who made Israel to sin, Jehu departed not from after them, to wit, the golden calves that were in Bethel, and that were in Dan.\n",
      "========================================\n",
      "He: כן שבתי זממתי בימים האלה להיטיב את ירושלם ואת בית יהודה אל תיראו׃\n",
      "En: Therefore, behold, I will open the side of Moab from the cities, from his cities which are on his frontiers, the glory of the country, Beth-jeshimoth, Baal-meon, and Kiriathaim,\n",
      "========================================\n",
      "He: ראה נתתי לפניך היום את החיים ואת הטוב ואת המות ואת הרע׃\n",
      "En: Sanctify unto me all the firstborn, whatsoever openeth the womb among the children of Israel, both of man and of beast: it is mine.\n",
      "========================================\n",
      "He: ומכל החי מכל בשר שנים מכל תביא אל התבה להחית אתך זכר ונקבה יהיו׃\n",
      "En: Sanctify unto me all the firstborn, whatsoever openeth the womb among the children of Israel, both of man and of beast: it is mine.\n",
      "========================================\n",
      "He: אלה תלדותם בכור ישמעאל נביות וקדר ואדבאל ומבשם׃\n",
      "En: And these shall stand upon mount Ebal to curse; Reuben, Gad, and Asher, and Zebulun, Dan, and Naphtali.\n",
      "========================================\n",
      "He: וישמעו שרי יהודה את הדברים האלה ויעלו מבית המלך בית יהוה וישבו בפתח שער יהוה החדש׃\n",
      "En: Then the men of Judah gave a shout: and as the men of Judah shouted, it came to pass, that God smote Jeroboam and all Israel before Abijah and Judah.\n",
      "========================================\n",
      "He: קחי כנור סבי עיר זונה נשכחה היטיבי נגן הרבי שיר למען תזכרי׃\n",
      "En: Then Israel sang this song, Spring up, O well; sing ye unto it:\n",
      "========================================\n",
      "He: וחגרו שקים וכסתה אותם פלצות ואל כל פנים בושה ובכל ראשיהם קרחה׃\n",
      "En: And some fell among thorns; and the thorns sprang up with it, and choked it.\n",
      "========================================\n",
      "He: ורחוקים יבאו ובנו בהיכל יהוה וידעתם כי יהוה צבאות שלחני אליכם והיה אם שמוע תשמעון בקול יהוה אלהיכם׃\n",
      "En: Then said Eliakim the son of Hilkiah, and Shebna, and Joah, unto Rab-shakeh, Speak, I pray thee, to thy servants in the Syrian language; for we understand it: and talk not with us in the Jews' language in the ears of the people that are on the wall.\n",
      "========================================\n",
      "He: בכל הדרך אשר צוה יהוה אלהיכם אתכם תלכו למען תחיון וטוב לכם והארכתם ימים בארץ אשר תירשון׃\n",
      "En: And said unto the Levites that taught all Israel, which were holy unto the LORD, Put the holy ark in the house which Solomon the son of David king of Israel did build; it shall not be a burden upon your shoulders: serve now the LORD your God, and his people Israel,\n",
      "========================================\n",
      "He: וממטה בנימן את גבעון ואת מגרשה את גבע ואת מגרשה׃\n",
      "En: Then the men of Judah gave a shout: and as the men of Judah shouted, it came to pass, that God smote Jeroboam and all Israel before Abijah and Judah.\n",
      "========================================\n",
      "He: ויוצא ישראל מתוכם כי לעולם חסדו׃\n",
      "En: Then said Zedekiah unto Jeremiah, Let no man know of these words, and thou shalt not die.\n",
      "========================================\n",
      "He: ואמרו אל ארכפוס שית לבך לעבודה אשר קבלתה באדון למען תמלאנה׃\n",
      "En: Hearken therefore unto the supplications of thy servant, and of thy people Israel, which they shall make toward this place: hear thou from thy dwelling place, even from heaven; and when thou hearest, forgive.\n",
      "========================================\n",
      "He: וכל בית יוסף ואחיו ובית אביו רק טפם וצאנם ובקרם עזבו בארץ גשן׃\n",
      "En: Likewise when all the Jews that were in Moab, and among the Ammonites, and in Edom, and that were in all the countries, heard that the king of Babylon had left a remnant of Judah, and that he had set over them Gedaliah the son of Ahikam the son of Shaphan;\n",
      "========================================\n",
      "He: ביום ההוא יהיה מצרים כנשים וחרד ופחד מפני תנופת יד יהוה צבאות אשר הוא מניף עליו׃\n",
      "En: Therefore, behold, I will open the side of Moab from the cities, from his cities which are on his frontiers, the glory of the country, Beth-jeshimoth, Baal-meon, and Kiriathaim,\n",
      "========================================\n",
      "He: ויבחר ואלישוע ואלפלט׃\n",
      "En: And the LORD spake unto Moses and unto Aaron, saying,\n",
      "========================================\n",
      "He: ואדניה בן חגית מתנשא לאמר אני אמלך ויעש לו רכב ופרשים וחמשים איש רצים לפניו׃\n",
      "En: Then Adonijah the son of Haggith exalted himself, saying, I will be king: and he prepared him chariots and horsemen, and fifty men to run before him.\n",
      "========================================\n",
      "He: האמינו לי כי אנכי באבי ואבי בי הוא ואם לא אך בגלל המעשים האמינו לי׃\n",
      "En: And moreover in time past, even when Saul was king, thou wast he that leddest out and broughtest in Israel: and the LORD thy God said unto thee, Thou shalt feed my people Israel, and thou shalt be ruler over my people Israel, and thou shalt be ruler over my people Israel.\n",
      "========================================\n",
      "He: ואין העם מכירים קול תרועת השמחה לקול בכי העם כי העם מריעים תרועה גדולה והקול נשמע עד למרחוק׃\n",
      "En: Then the men of Judah gave a shout: and as the men of Judah shouted, it came to pass, that God smote Jeroboam and all Israel before Abijah and Judah.\n",
      "========================================\n",
      "He: ושחטת את האיל ולקחת מדמו ונתתה על תנוך אזן אהרן ועל תנוך אזן בניו הימנית ועל בהן ידם הימנית ועל בהן רגלם הימנית וזרקת את הדם על המזבח סביב׃\n",
      "En: Then shalt thou kill the ram, and take of his blood, and put it upon the tip of the right ear of Aaron, and upon the tip of the right ear of his sons, and upon the thumb of their right hand, and upon the great toe of their right foot, and sprinkle the blood upon the altar round about.\n",
      "========================================\n",
      "He: שיר המעלות לשלמה אם יהוה לא יבנה בית שוא עמלו בוניו בו אם יהוה לא ישמר עיר שוא שקד שומר׃\n",
      "En: Then the men of Judah gave a shout: and as the men of Judah shouted, it came to pass, that God smote Jeroboam and all Israel before Abijah and Judah.\n",
      "========================================\n",
      "He: למי תדמיוני ותשוו ותמשלוני ונדמה׃\n",
      "En: And upon Dibon, and upon Nebo, and upon Beth-diblathaim,\n",
      "========================================\n",
      "He: תתננו כצאן מאכל ובגוים זריתנו׃\n",
      "En: Give ear, O Shepherd of Israel, thou that leadest Joseph like a flock; thou that dwellest between the cherubims, shine forth.\n",
      "========================================\n",
      "He: אבל שלחתי את האחים פן תהיה לריק תהלתנו עליכם בדבר הזה ולמען תהיו מזמנים כאשר אמרתי׃\n",
      "En: And Jeremiah lamented for Josiah: and all the singing men and the singing women spake of Josiah in their lamentations to this day, and made them an ordinance in Israel: and, behold, they are written in the lamentations.\n",
      "========================================\n",
      "He: ויאמר אלהם שימו לבבכם לכל הדברים אשר אנכי מעיד בכם היום אשר תצום את בניכם לשמר לעשות את כל דברי התורה הזאת׃\n",
      "En: And Jeremiah lamented for Josiah: and all the singing men and the singing women spake of Josiah in their lamentations to this day, and made them an ordinance in Israel: and, behold, they are written in the lamentations.\n",
      "========================================\n",
      "He: מלאה העת והגיעה מלכות האלהים שובו והאמינו בבשורה׃\n",
      "En: Then the men of Judah gave a shout: and as the men of Judah shouted, it came to pass, that God smote Jeroboam and all Israel before Abijah and Judah.\n",
      "========================================\n",
      "He: הכל נמסר לי מאת אבי ואין מכיר את הבן בלתי האב ואין מכיר את האב בלתי הבן ואשר יחפץ הבן לגלותו לו׃\n",
      "En: And say unto the Ammonites, Hear the word of the Lord GOD; Thus saith the Lord GOD; Because thou saidst, Aha, against my sanctuary, when it was profaned; and against the land of Israel, when it was desolate; and against the house of Judah, when they went into captivity;\n",
      "========================================\n",
      "He: שנים יהיו בשדה ונאסף האחד והאחר יעזב׃\n",
      "En: And when the cloud tarried long upon the tabernacle many days, then the children of Israel kept the charge of the LORD, and journeyed not.\n",
      "========================================\n",
      "He: ואשה אשר תקרב אל כל בהמה לרבעה אתה והרגת את האשה ואת הבהמה מות יומתו דמיהם בם׃\n",
      "En: And thou shalt set the Levites before Aaron, and before his sons, and offer them for an offering unto the LORD.\n",
      "========================================\n",
      "He: ויהי ממחרת ויצא העם השדה ויגדו לאבימלך׃\n",
      "En: Then the men of Judah gave a shout: and as the men of Judah shouted, it came to pass, that God smote Jeroboam and all Israel before Abijah and Judah.\n",
      "========================================\n",
      "He: ויבא ויקח את הספר מימין הישב על הכסא׃\n"
     ]
    },
    {
     "name": "stdout",
     "output_type": "stream",
     "text": [
      "En: And Joram said, Make ready. And his chariot was made ready. And Joram king of Israel and Ahaziah king of Judah went out, each in his chariot, and they went out against Jehu, and met him in the portion of Naboth the Jezreelite.\n",
      "========================================\n",
      "He: והפיצותי אותך בגוים וזריתיך בארצות והתמתי טמאתך ממך׃\n",
      "En: Hearken therefore unto the supplications of thy servant, and of thy people Israel, which they shall make toward this place: hear thou from thy dwelling place, even from heaven; and when thou hearest, forgive.\n",
      "========================================\n",
      "He: והלוים לעמת גבול הכהנים חמשה ועשרים אלף ארך ורחב עשרת אלפים כל ארך חמשה ועשרים אלף ורחב עשרת אלפים׃\n",
      "En: And over against the border of the priests the Levites shall have five and twenty thousand in length, and ten thousand in breadth: all the length shall be five and twenty thousand, and the breadth ten thousand.\n",
      "========================================\n",
      "He: תחלת דברי פיהו סכלות ואחרית פיהו הוללות רעה׃\n",
      "En: Speak unto the children of Israel, and say unto them, When ye are passed over Jordan into the land of Canaan;\n",
      "========================================\n",
      "He: כי תשא את ראש בני ישראל לפקדיהם ונתנו איש כפר נפשו ליהוה בפקד אתם ולא יהיה בהם נגף בפקד אתם׃\n",
      "En: Now therefore call unto me all the prophets of Baal, all his servants, and all his priests; let none be wanting: for I have a great sacrifice to do to Baal; whosoever shall be wanting, he shall not live. But Jehu did it in subtilty, to the intent that he might destroy the worshippers of Baal.\n",
      "========================================\n",
      "He: כל שתה תחת רגליו הנה באשר שת כל תחתיו לא השאיר דבר שלא שת תחתיו ועתה זה לא ראינו עדין כי כל הושת תחתיו׃\n",
      "En: And he spake unto Korah and unto all his company, saying, Even to morrow the LORD will shew who are his, and who is holy; and will cause him to come near unto him: even him whom he hath chosen will he cause to come near unto him.\n",
      "========================================\n",
      "He: ונאמר לא נוכל לרדת אם יש אחינו הקטן אתנו וירדנו כי לא נוכל לראות פני האיש ואחינו הקטן איננו אתנו׃\n",
      "En: And moreover in time past, even when Saul was king, thou wast he that leddest out and broughtest in Israel: and the LORD thy God said unto thee, Thou shalt feed my people Israel, and thou shalt be ruler over my people Israel, and thou shalt be ruler over my people Israel.\n",
      "========================================\n",
      "He: ויהי דבר יהוה צבאות אלי לאמר׃\n",
      "En: Then said Zedekiah unto Jeremiah, Let no man know of these words, and thou shalt not die.\n",
      "========================================\n",
      "He: את זה תאכלו מכל אשר במים כל אשר לו סנפיר וקשקשת תאכלו׃\n",
      "En: Howbeit from the sins of Jeroboam the son of Nebat, who made Israel to sin, Jehu departed not from after them, to wit, the golden calves that were in Bethel, and that were in Dan.\n",
      "========================================\n",
      "He: למנצח לדוד מזמור קוה קויתי יהוה ויט אלי וישמע שועתי׃\n",
      "En: Therefore I will bewail with the weeping of Jazer the vine of Sibmah: I will water thee with my tears, O Heshbon, and Elealeh: for the shouting for thy summer fruits and for thy harvest is fallen.\n",
      "========================================\n",
      "He: ויהיו כל ימי נח תשע מאות שנה וחמשים שנה וימת׃\n",
      "En: The children of Pahath-moab, of the children of Jeshua and Joab, two thousand eight hundred and twelve.\n",
      "========================================\n",
      "He: כי אמת יהגה חכי ותועבת שפתי רשע׃\n",
      "En: Then said Zedekiah unto Jeremiah, Let no man know of these words, and thou shalt not die.\n",
      "========================================\n",
      "He: ותהר עוד ותלד בן ותאמר כי שמע יהוה כי שנואה אנכי ויתן לי גם את זה ותקרא שמו שמעון׃\n",
      "En: Then said Zedekiah unto Jeremiah, Let no man know of these words, and thou shalt not die.\n",
      "========================================\n",
      "He: נבוב לחת תעשה אתו כאשר הראה אתך בהר כן יעשו׃\n",
      "En: Then said Absalom, Call now Hushai the Archite also, and let us hear likewise what he saith.\n",
      "========================================\n",
      "He: ויצונו יהוה לעשות את כל החקים האלה ליראה את יהוה אלהינו לטוב לנו כל הימים לחיתנו כהיום הזה׃\n",
      "En: And said unto the Levites that taught all Israel, which were holy unto the LORD, Put the holy ark in the house which Solomon the son of David king of Israel did build; it shall not be a burden upon your shoulders: serve now the LORD your God, and his people Israel,\n",
      "========================================\n",
      "He: ובמלאת ימי טהרה לבן או לבת תביא כבש בן שנתו לעלה ובן יונה או תר לחטאת אל פתח אהל מועד אל הכהן׃\n",
      "En: And thou shalt set the Levites before Aaron, and before his sons, and offer them for an offering unto the LORD.\n",
      "========================================\n",
      "He: דברי נרגן כמתלהמים והם ירדו חדרי בטן׃\n",
      "En: Howbeit from the sins of Jeroboam the son of Nebat, who made Israel to sin, Jehu departed not from after them, to wit, the golden calves that were in Bethel, and that were in Dan.\n",
      "========================================\n",
      "He: הן גוים כמר מדלי וכשחק מאזנים נחשבו הן איים כדק יטול׃\n",
      "En: Therefore, behold, I will open the side of Moab from the cities, from his cities which are on his frontiers, the glory of the country, Beth-jeshimoth, Baal-meon, and Kiriathaim,\n",
      "========================================\n",
      "He: אבוא ביתך בעולות אשלם לך נדרי׃\n",
      "En: Yet now hear, O Jacob my servant; and Israel, whom I have chosen:\n",
      "========================================\n",
      "He: כי אמר אני לכם אשר צריך עוד להתמלא בי הכתוב הזה ואת פשעים נמנה כי כל הכתוב עלי בא עד קצו׃\n",
      "En: Even the prophet Jeremiah said, Amen: the LORD do so: the LORD perform thy words which thou hast prophesied, to bring again the vessels of the LORD's house, and all that is carried away captive, from Babylon into this place.\n",
      "========================================\n",
      "He: וישוע טרם יבא אל הכפר כי עודנו עמד במקום אשר פגשתו שם מרתא׃\n",
      "En: Then Zedekiah the son of Chenaanah came near, and smote Micaiah upon the cheek, and said, Which way went the Spirit of the LORD from me to speak unto thee?\n",
      "========================================\n",
      "He: מכל משמר נצר לבך כי ממנו תוצאות חיים׃\n",
      "En: Howbeit from the sins of Jeroboam the son of Nebat, who made Israel to sin, Jehu departed not from after them, to wit, the golden calves that were in Bethel, and that were in Dan.\n",
      "========================================\n",
      "He: לכן זונה שמעי דבר יהוה׃\n",
      "En: Then said Zedekiah unto Jeremiah, Let no man know of these words, and thou shalt not die.\n",
      "========================================\n",
      "He: וינשק לכל אחיו ויבך עליהם ואחרי כן דברו אחיו אתו׃\n",
      "En: And David inquired of God, saying, Shall I go up against the Philistines? and wilt thou deliver them into mine hand? And the LORD said unto him, Go up; for I will deliver them into thine hand.\n",
      "========================================\n",
      "He: כי נקל לגמל עבר בתוך נקב המחט מבוא עשיר אל מלכות האלהים׃\n",
      "En: Howbeit from the sins of Jeroboam the son of Nebat, who made Israel to sin, Jehu departed not from after them, to wit, the golden calves that were in Bethel, and that were in Dan.\n",
      "========================================\n",
      "He: אשריכם הרעבים כעת כי תשבעו אשריכם הבכים כעת כי תשחקו׃\n",
      "En: And say unto the Ammonites, Hear the word of the Lord GOD; Thus saith the Lord GOD; Because thou saidst, Aha, against my sanctuary, when it was profaned; and against the land of Israel, when it was desolate; and against the house of Judah, when they went into captivity;\n",
      "========================================\n",
      "He: וישאל הכהן הגדול את ישוע על תלמידיו ועל לקחו׃\n",
      "En: And he sent messengers to Ahab king of Israel into the city, and said unto him, Thus saith Ben-hadad,\n",
      "========================================\n",
      "He: ורחבעם בן שלמה מלך ביהודה בן ארבעים ואחת שנה רחבעם במלכו ושבע עשרה שנה מלך בירושלם העיר אשר בחר יהוה לשום את שמו שם מכל שבטי ישראל ושם אמו נעמה העמנית׃\n",
      "En: And Rehoboam the son of Solomon reigned in Judah. Rehoboam was forty and one years old when he began to reign, and he reigned seventeen years in Jerusalem, the city which the LORD did choose out of all the tribes of Israel, to put his name there. And his mother's name was Naamah an Ammonitess.\n",
      "========================================\n",
      "He: ויאמר אליהם אנשי ישראל השמרו לכם מפני האנשים האלה במה שאתם עשים להם׃\n",
      "En: And Saul said unto the Kenites, Go, depart, get you down from among the Amalekites, lest I destroy you with them: for ye shewed kindness to all the children of Israel, when they came up out of Egypt. So the Kenites departed from among the Amalekites.\n",
      "========================================\n",
      "He: ויסעו מאילם ויחנו על ים סוף׃\n"
     ]
    },
    {
     "name": "stdout",
     "output_type": "stream",
     "text": [
      "En: And Joram said, Make ready. And his chariot was made ready. And Joram king of Israel and Ahaziah king of Judah went out, each in his chariot, and they went out against Jehu, and met him in the portion of Naboth the Jezreelite.\n",
      "========================================\n",
      "He: ולהפיל זרעם בגוים ולזרותם בארצות׃\n",
      "En: Come to Bethel, and transgress; at Gilgal multiply transgression; and bring your sacrifices every morning, and your tithes after three years:\n",
      "========================================\n",
      "He: ואספו אספה אסיר על בור וסגרו על מסגר ומרב ימים יפקדו׃\n",
      "En: And Joram said, Make ready. And his chariot was made ready. And Joram king of Israel and Ahaziah king of Judah went out, each in his chariot, and they went out against Jehu, and met him in the portion of Naboth the Jezreelite.\n",
      "========================================\n",
      "He: ואם חי יהוה יאמרו לכן לשקר ישבעו׃\n",
      "En: Then said Zedekiah unto Jeremiah, Let no man know of these words, and thou shalt not die.\n",
      "========================================\n",
      "He: ודוד בן איש אפרתי הזה מבית לחם יהודה ושמו ישי ולו שמנה בנים והאיש בימי שאול זקן בא באנשים׃\n",
      "En: Now David was the son of that Ephrathite of Bethlehemjudah, whose name was Jesse; and he had eight sons: and the man went among men for an old man in the days of Saul.\n",
      "========================================\n",
      "He: ויוצא ישראל מתוכם כי לעולם חסדו׃\n",
      "En: Then said Zedekiah unto Jeremiah, Let no man know of these words, and thou shalt not die.\n",
      "========================================\n",
      "He: וכפתחו החותם החמישי וארא מתחת למזבח את נפשות הטבוחים על דבר האלהים ועל העדות אשר היתה להם׃\n",
      "En: Moreover Hezekiah the king and the princes commanded the Levites to sing praise unto the LORD with the words of David, and of Asaph the seer. And they sang praises with gladness, and they bowed their heads and worshipped.\n",
      "========================================\n",
      "He: ויאמר אליהם פילטוס קחהו אתם עמכם ועשו משפטו כתורתכם ויאמרו אליו היהודים אין לנו רשיון להמית איש׃\n",
      "En: Then the men of Judah gave a shout: and as the men of Judah shouted, it came to pass, that God smote Jeroboam and all Israel before Abijah and Judah.\n",
      "========================================\n",
      "He: ויהי כי הציקה לו בדבריה כל הימים ותאלצהו ותקצר נפשו למות׃\n",
      "En: Then said Zedekiah unto Jeremiah, Let no man know of these words, and thou shalt not die.\n",
      "========================================\n",
      "He: קומת הכרוב האחד עשר באמה וכן הכרוב השני׃\n",
      "En: These also are the generations of Aaron and Moses in the day that the LORD spake with Moses in mount Sinai.\n",
      "========================================\n",
      "He: ויען אשר אין לכחש בדברים האלה ראוי לכם להיות שקטים ולא לעשות דבר נמהר׃\n",
      "En: Then said Pilate unto them, Take ye him, and judge him according to your law. The Jews therefore said unto him, It is not lawful for us to put any man to death:\n",
      "========================================\n",
      "He: ויפשט משה את אהרן את בגדיו וילבש אתם את אלעזר בנו וימת אהרן שם בראש ההר וירד משה ואלעזר מן ההר׃\n",
      "En: Then the men of Judah gave a shout: and as the men of Judah shouted, it came to pass, that God smote Jeroboam and all Israel before Abijah and Judah.\n",
      "========================================\n",
      "He: ויצא ישוע ותלמידיו ללכת אל כפרי קיסרין של פילפוס ויהי בדרך וישאל את תלמידיו ויאמר אליהם מה אמרים עלי האנשים מי אני׃\n",
      "En: And Jesus went out, and his disciples, into the towns of Caesarea Philippi: and by the way he asked his disciples, saying unto them, Whom do men say that I am?\n",
      "========================================\n",
      "He: הכל בכתב מיד יהוה עלי השכיל כל מלאכות התבנית׃\n",
      "En: Therefore, behold, I will open the side of Moab from the cities, from his cities which are on his frontiers, the glory of the country, Beth-jeshimoth, Baal-meon, and Kiriathaim,\n",
      "========================================\n",
      "He: וירם משה את ידו ויך את הסלע במטהו פעמים ויצאו מים רבים ותשת העדה ובעירם׃\n",
      "En: Howbeit from the sins of Jeroboam the son of Nebat, who made Israel to sin, Jehu departed not from after them, to wit, the golden calves that were in Bethel, and that were in Dan.\n",
      "========================================\n",
      "He: כל מפרסת פרסה ושסעת שסע פרסת מעלת גרה בבהמה אתה תאכלו׃\n",
      "En: Therefore, behold, I will open the side of Moab from the cities, from his cities which are on his frontiers, the glory of the country, Beth-jeshimoth, Baal-meon, and Kiriathaim,\n",
      "========================================\n",
      "He: כי גם המקדש גם המקדשים כלם מאחד המה ועל כן לא בוש מקרא להם אחים׃\n",
      "En: Howbeit from the sins of Jeroboam the son of Nebat, who made Israel to sin, Jehu departed not from after them, to wit, the golden calves that were in Bethel, and that were in Dan.\n",
      "========================================\n",
      "He: והיה ביום ההוא ישרק יהוה לזבוב אשר בקצה יארי מצרים ולדבורה אשר בארץ אשור׃\n",
      "En: Howbeit from the sins of Jeroboam the son of Nebat, who made Israel to sin, Jehu departed not from after them, to wit, the golden calves that were in Bethel, and that were in Dan.\n",
      "========================================\n",
      "He: ובמנרה ארבעה גבעים משקדים כפתריה ופרחיה׃\n",
      "En: Therefore, behold, I will open the side of Moab from the cities, from his cities which are on his frontiers, the glory of the country, Beth-jeshimoth, Baal-meon, and Kiriathaim,\n",
      "========================================\n",
      "He: למנצח אל ששנים עדות לאסף מזמור רעה ישראל האזינה נהג כצאן יוסף ישב הכרובים הופיעה׃\n",
      "En: Therefore I will bewail with the weeping of Jazer the vine of Sibmah: I will water thee with my tears, O Heshbon, and Elealeh: for the shouting for thy summer fruits and for thy harvest is fallen.\n",
      "========================================\n",
      "He: ויהי כבאו אל עבר הים אל ארץ הגרגשים ויפגשוהו שני אנשים אחוזי שדים יצאים מבתי הקברות והמה רגונים מאד עד אשר לא יכל איש לעבר בדרך ההוא׃\n",
      "En: So Joash the king of Israel went up; and they saw one another in the face, both he and Amaziah king of Judah, at Beth-shemesh, which belongeth to Judah.\n",
      "========================================\n",
      "He: ויסע וילך וישב סנחריב מלך אשור וישב בנינוה׃\n",
      "En: And these shall stand upon mount Ebal to curse; Reuben, Gad, and Asher, and Zebulun, Dan, and Naphtali.\n",
      "========================================\n",
      "He: ויהי אחרי כן ויקבץ בן הדד מלך ארם את כל מחנהו ויעל ויצר על שמרון׃\n",
      "En: Likewise when all the Jews that were in Moab, and among the Ammonites, and in Edom, and that were in all the countries, heard that the king of Babylon had left a remnant of Judah, and that he had set over them Gedaliah the son of Ahikam the son of Shaphan;\n",
      "========================================\n",
      "He: עבר בשוק אצל פנה ודרך ביתה יצעד׃\n",
      "En: And Joram said, Make ready. And his chariot was made ready. And Joram king of Israel and Ahaziah king of Judah went out, each in his chariot, and they went out against Jehu, and met him in the portion of Naboth the Jezreelite.\n",
      "========================================\n"
     ]
    }
   ],
   "source": [
    "for i in range(100):\n",
    "    print(\"He: {}\".format(he_sents[i]))\n",
    "    h = he[i]\n",
    "    sims = cosine_similarity([h], en)[0]\n",
    "    idx = (-sims).argsort()\n",
    "    j = idx[0]\n",
    "    print(\"En: {}\".format(en_sents[j]))\n",
    "    print(\"========================================\")"
   ]
  },
  {
   "cell_type": "code",
   "execution_count": 37,
   "metadata": {},
   "outputs": [],
   "source": [
    "lang2H = {k:np.stack(v) for k,v in lang2H_mean.items()}"
   ]
  },
  {
   "cell_type": "code",
   "execution_count": 38,
   "metadata": {},
   "outputs": [],
   "source": [
    "sims = defaultdict(dict)\n",
    "sims_np = np.zeros((len(lang2H), len(lang2H)))\n",
    "\n",
    "for i, lang in enumerate(lang2H.keys()):\n",
    "    for j, lang2 in enumerate(lang2H.keys()):\n",
    "        \n",
    "        h_lang1 = lang2H[lang]\n",
    "        h_lang2 = lang2H[lang2]\n",
    "        h_lang1 /= np.linalg.norm(h_lang1, axis = 1, keepdims = True)\n",
    "        h_lang2 /= np.linalg.norm(h_lang2, axis = 1, keepdims = True)\n",
    "        \n",
    "        #sim =  cosine_similarity(lang2H_mean[lang], lang2H_mean[lang2]).mean()\n",
    "        sim = ((h_lang1*h_lang2).sum(axis=1)).mean()\n",
    "        sims[lang][lang2] = sim\n",
    "        sims_np[i][j] = sim"
   ]
  },
  {
   "cell_type": "code",
   "execution_count": 39,
   "metadata": {},
   "outputs": [
    {
     "data": {
      "image/png": "[encoded data removed]",
      "text/plain": [
       "<Figure size 432x288 with 2 Axes>"
      ]
     },
     "metadata": {
      "needs_background": "light"
     },
     "output_type": "display_data"
    }
   ],
   "source": [
    "langs = list(lang2H.keys())\n",
    "np.fill_diagonal(sims_np, np.mean(sims_np))\n",
    "plt.imshow(sims_np, cmap='hot', interpolation='nearest')\n",
    "plt.xticks(range(len(langs)), langs, rotation=90)\n",
    "plt.yticks(range(len(langs)), langs)\n",
    "plt.colorbar()\n",
    "plt.show()"
   ]
  },
  {
   "cell_type": "code",
   "execution_count": 40,
   "metadata": {},
   "outputs": [
    {
     "data": {
      "text/plain": [
       "array([0.66662472, 0.6434828 , 0.67470998, 0.68196857, 0.69867951,\n",
       "       0.61289859, 0.76054376, 0.76228005, 0.69391501, 0.71728766,\n",
       "       0.73909426, 0.67841464, 0.76749623, 0.68010741, 0.61672056,\n",
       "       0.63022959, 0.63075966, 0.56035703, 0.6434828 , 0.66662472,\n",
       "       0.61225677, 0.68145066, 0.65228921, 0.57014108, 0.66259223,\n",
       "       0.63722491, 0.65638167, 0.57897574, 0.67238206, 0.6782974 ,\n",
       "       0.67510945, 0.66742903, 0.60317701, 0.59261125, 0.58627093,\n",
       "       0.50243747, 0.67470998, 0.61225677, 0.66662472, 0.63485336,\n",
       "       0.66153759, 0.54880559, 0.68591064, 0.67946649, 0.671893  ,\n",
       "       0.71478534, 0.68896997, 0.62959182, 0.7282033 , 0.62780201,\n",
       "       0.59367228, 0.65534139, 0.5798524 , 0.51891929, 0.68196857,\n",
       "       0.68145066, 0.63485336, 0.66662472, 0.77505696, 0.61518008,\n",
       "       0.69352841, 0.69246739, 0.64719421, 0.64720744, 0.70787644,\n",
       "       0.71125376, 0.73966116, 0.90829349, 0.61152279, 0.59899551,\n",
       "       0.61705554, 0.53704584, 0.69867951, 0.65228921, 0.66153759,\n",
       "       0.77505696, 0.66662472, 0.61411774, 0.70887649, 0.7141062 ,\n",
       "       0.67190456, 0.65636724, 0.70512062, 0.69014651, 0.75798959,\n",
       "       0.78058523, 0.58053213, 0.62276793, 0.60996848, 0.53541023,\n",
       "       0.61289859, 0.57014108, 0.54880559, 0.61518008, 0.61411774,\n",
       "       0.66662472, 0.62393361, 0.60198259, 0.58508182, 0.59413695,\n",
       "       0.62108028, 0.59504867, 0.59764779, 0.62731206, 0.57539696,\n",
       "       0.54960918, 0.5593729 , 0.62408608, 0.76054376, 0.66259223,\n",
       "       0.68591064, 0.69352841, 0.70887649, 0.62393361, 0.66662472,\n",
       "       0.75516284, 0.70799428, 0.67275673, 0.76834065, 0.73353451,\n",
       "       0.77632779, 0.681593  , 0.61665207, 0.62014621, 0.6443578 ,\n",
       "       0.53222495, 0.76228005, 0.63722491, 0.67946649, 0.69246739,\n",
       "       0.7141062 , 0.60198259, 0.75516284, 0.66662472, 0.69164485,\n",
       "       0.697133  , 0.72921515, 0.68870425, 0.77158266, 0.68838549,\n",
       "       0.60293239, 0.6393199 , 0.62051618, 0.54200685, 0.69391501,\n",
       "       0.65638167, 0.671893  , 0.64719421, 0.67190456, 0.58508182,\n",
       "       0.70799428, 0.69164485, 0.66662472, 0.70949316, 0.69533426,\n",
       "       0.68582112, 0.75617456, 0.64412522, 0.62177688, 0.6836198 ,\n",
       "       0.58175057, 0.5581063 , 0.71728766, 0.57897574, 0.71478534,\n",
       "       0.64720744, 0.65636724, 0.59413695, 0.67275673, 0.697133  ,\n",
       "       0.70949316, 0.66662472, 0.66514099, 0.63685215, 0.7281605 ,\n",
       "       0.64977813, 0.55291295, 0.62847096, 0.58755374, 0.56411952,\n",
       "       0.73909426, 0.67238206, 0.68896997, 0.70787644, 0.70512062,\n",
       "       0.62108028, 0.76834065, 0.72921515, 0.69533426, 0.66514099,\n",
       "       0.66662472, 0.73003721, 0.77141064, 0.69769442, 0.62079591,\n",
       "       0.60787737, 0.6326831 , 0.51403409, 0.67841464, 0.6782974 ,\n",
       "       0.62959182, 0.71125376, 0.69014651, 0.59504867, 0.73353451,\n",
       "       0.68870425, 0.68582112, 0.63685215, 0.73003721, 0.66662472,\n",
       "       0.72831738, 0.70483172, 0.62005031, 0.60541099, 0.62479752,\n",
       "       0.5311814 , 0.76749623, 0.67510945, 0.7282033 , 0.73966116,\n",
       "       0.75798959, 0.59764779, 0.77632779, 0.77158266, 0.75617456,\n",
       "       0.7281605 , 0.77141064, 0.72831738, 0.66662472, 0.73374903,\n",
       "       0.64120179, 0.67020637, 0.63153481, 0.53098428, 0.68010741,\n",
       "       0.66742903, 0.62780207, 0.90829349, 0.78058523, 0.62731206,\n",
       "       0.681593  , 0.68838549, 0.64412522, 0.64977813, 0.69769442,\n",
       "       0.70483172, 0.73374903, 0.66662472, 0.60596555, 0.59464598,\n",
       "       0.6170451 , 0.54387277, 0.61672062, 0.60317701, 0.59367228,\n",
       "       0.61152279, 0.58053213, 0.57539696, 0.61665207, 0.60293239,\n",
       "       0.62177688, 0.55291295, 0.62079591, 0.62005031, 0.64120179,\n",
       "       0.60596555, 0.66662472, 0.58420026, 0.59306931, 0.59657365,\n",
       "       0.63022959, 0.59261125, 0.65534139, 0.59899551, 0.62276793,\n",
       "       0.54960918, 0.62014621, 0.6393199 , 0.6836198 , 0.62847096,\n",
       "       0.60787737, 0.60541099, 0.67020637, 0.59464598, 0.58420026,\n",
       "       0.66662472, 0.5496363 , 0.53559023, 0.63075966, 0.58627093,\n",
       "       0.5798524 , 0.61705554, 0.60996848, 0.5593729 , 0.6443578 ,\n",
       "       0.62051618, 0.58175057, 0.58755374, 0.6326831 , 0.62479752,\n",
       "       0.63153481, 0.6170451 , 0.59306931, 0.5496363 , 0.66662472,\n",
       "       0.54358643, 0.56035703, 0.50243747, 0.51891929, 0.53704584,\n",
       "       0.53541023, 0.62408608, 0.53222495, 0.54200685, 0.5581063 ,\n",
       "       0.56411952, 0.51403409, 0.5311814 , 0.53098428, 0.54387277,\n",
       "       0.59657365, 0.53559023, 0.54358643, 0.66662472])"
      ]
     },
     "execution_count": 40,
     "metadata": {},
     "output_type": "execute_result"
    }
   ],
   "source": [
    "sims_np.reshape(-1)"
   ]
  },
  {
   "cell_type": "code",
   "execution_count": 192,
   "metadata": {},
   "outputs": [
    {
     "name": "stdout",
     "output_type": "stream",
     "text": [
      "Help on function fill_diagonal in module numpy:\n",
      "\n",
      "fill_diagonal(a, val, wrap=False)\n",
      "    Fill the main diagonal of the given array of any dimensionality.\n",
      "    \n",
      "    For an array `a` with ``a.ndim >= 2``, the diagonal is the list of\n",
      "    locations with indices ``a[i, ..., i]`` all identical. This function\n",
      "    modifies the input array in-place, it does not return a value.\n",
      "    \n",
      "    Parameters\n",
      "    ----------\n",
      "    a : array, at least 2-D.\n",
      "      Array whose diagonal is to be filled, it gets modified in-place.\n",
      "    \n",
      "    val : scalar\n",
      "      Value to be written on the diagonal, its type must be compatible with\n",
      "      that of the array a.\n",
      "    \n",
      "    wrap : bool\n",
      "      For tall matrices in NumPy version up to 1.6.2, the\n",
      "      diagonal \"wrapped\" after N columns. You can have this behavior\n",
      "      with this option. This affects only tall matrices.\n",
      "    \n",
      "    See also\n",
      "    --------\n",
      "    diag_indices, diag_indices_from\n",
      "    \n",
      "    Notes\n",
      "    -----\n",
      "    .. versionadded:: 1.4.0\n",
      "    \n",
      "    This functionality can be obtained via `diag_indices`, but internally\n",
      "    this version uses a much faster implementation that never constructs the\n",
      "    indices and uses simple slicing.\n",
      "    \n",
      "    Examples\n",
      "    --------\n",
      "    >>> a = np.zeros((3, 3), int)\n",
      "    >>> np.fill_diagonal(a, 5)\n",
      "    >>> a\n",
      "    array([[5, 0, 0],\n",
      "           [0, 5, 0],\n",
      "           [0, 0, 5]])\n",
      "    \n",
      "    The same function can operate on a 4-D array:\n",
      "    \n",
      "    >>> a = np.zeros((3, 3, 3, 3), int)\n",
      "    >>> np.fill_diagonal(a, 4)\n",
      "    \n",
      "    We only show a few blocks for clarity:\n",
      "    \n",
      "    >>> a[0, 0]\n",
      "    array([[4, 0, 0],\n",
      "           [0, 0, 0],\n",
      "           [0, 0, 0]])\n",
      "    >>> a[1, 1]\n",
      "    array([[0, 0, 0],\n",
      "           [0, 4, 0],\n",
      "           [0, 0, 0]])\n",
      "    >>> a[2, 2]\n",
      "    array([[0, 0, 0],\n",
      "           [0, 0, 0],\n",
      "           [0, 0, 4]])\n",
      "    \n",
      "    The wrap option affects only tall matrices:\n",
      "    \n",
      "    >>> # tall matrices no wrap\n",
      "    >>> a = np.zeros((5, 3), int)\n",
      "    >>> np.fill_diagonal(a, 4)\n",
      "    >>> a\n",
      "    array([[4, 0, 0],\n",
      "           [0, 4, 0],\n",
      "           [0, 0, 4],\n",
      "           [0, 0, 0],\n",
      "           [0, 0, 0]])\n",
      "    \n",
      "    >>> # tall matrices wrap\n",
      "    >>> a = np.zeros((5, 3), int)\n",
      "    >>> np.fill_diagonal(a, 4, wrap=True)\n",
      "    >>> a\n",
      "    array([[4, 0, 0],\n",
      "           [0, 4, 0],\n",
      "           [0, 0, 4],\n",
      "           [0, 0, 0],\n",
      "           [4, 0, 0]])\n",
      "    \n",
      "    >>> # wide matrices\n",
      "    >>> a = np.zeros((3, 5), int)\n",
      "    >>> np.fill_diagonal(a, 4, wrap=True)\n",
      "    >>> a\n",
      "    array([[4, 0, 0, 0, 0],\n",
      "           [0, 4, 0, 0, 0],\n",
      "           [0, 0, 4, 0, 0]])\n",
      "    \n",
      "    The anti-diagonal can be filled by reversing the order of elements\n",
      "    using either `numpy.flipud` or `numpy.fliplr`.\n",
      "    \n",
      "    >>> a = np.zeros((3, 3), int);\n",
      "    >>> np.fill_diagonal(np.fliplr(a), [1,2,3])  # Horizontal flip\n",
      "    >>> a\n",
      "    array([[0, 0, 1],\n",
      "           [0, 2, 0],\n",
      "           [3, 0, 0]])\n",
      "    >>> np.fill_diagonal(np.flipud(a), [1,2,3])  # Vertical flip\n",
      "    >>> a\n",
      "    array([[0, 0, 3],\n",
      "           [0, 2, 0],\n",
      "           [1, 0, 0]])\n",
      "    \n",
      "    Note that the order in which the diagonal is filled varies depending\n",
      "    on the flip function.\n",
      "\n"
     ]
    }
   ],
   "source": [
    "help(np.fill_diagonal)"
   ]
  },
  {
   "cell_type": "code",
   "execution_count": null,
   "metadata": {},
   "outputs": [],
   "source": []
  }
 ],
 "metadata": {
  "kernelspec": {
   "display_name": "Python 3",
   "language": "python",
   "name": "python3"
  },
  "language_info": {
   "codemirror_mode": {
    "name": "ipython",
    "version": 3
   },
   "file_extension": ".py",
   "mimetype": "text/x-python",
   "name": "python",
   "nbconvert_exporter": "python",
   "pygments_lexer": "ipython3",
   "version": "3.7.6"
  }
 },
 "nbformat": 4,
 "nbformat_minor": 4
}
